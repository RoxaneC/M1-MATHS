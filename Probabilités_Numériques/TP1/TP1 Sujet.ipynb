{
 "cells": [
  {
   "cell_type": "markdown",
   "id": "3d22f9ad-4990-43fb-9b79-cd2c03883b2a",
   "metadata": {},
   "source": [
    "# Simulation de variables aléatoires\n",
    "\n",
    "## Notebook jupyter\n",
    "Le notebook est un document interactif, qui permet de mélanger du texte et des lignes de code (pour nous, c'est du code `python`). Il est possible d'exécuter le code, de le modifier, et d'ajouter (ou de supprimer) des cellules de code ou de commentaire. Vous avez la possibilité d'enregistrer les modifications par le bouton correspondant dans la barre à outils en haut. \n",
    "\n",
    "Pour lire ou éditer un notebook (fichier au format .ipynb) vous pouvez utiliser deux environnements qui s'ouvrent dans un navigateur web: \n",
    "\n",
    "- `jupyter notebook` la version classique qui ouvre un serveur sur l'adresse `http://localhost:8888/`\n",
    "- `jupyter lab` la version plus moderne avec du code javascript pour \"une IDE\" plus dynamique `http://localhost:8888/lab`\n",
    "\n",
    "Dans la cellule de code suivante, vous voyez des instructions en `python`. Pour les exécuter, il faut d'abord cliquer dans la cellule pour la sélectionner, puis faire `Shift+Enter`."
   ]
  },
  {
   "cell_type": "code",
   "execution_count": null,
   "id": "6b5cb3c9-d75d-45a2-9b38-6d23db106605",
   "metadata": {
    "tags": []
   },
   "outputs": [],
   "source": [
    "x = 17\n",
    "x      # pour afficher la valeur de x on utilise print(x)\n",
    "y = x + 3\n",
    "y      # la dernière instruction est renvoyée, pour éviter l'affichage on peut mettre un ; à la fin: y; "
   ]
  },
  {
   "cell_type": "markdown",
   "id": "2cc77fce-ae6f-46e1-832d-973f4a208b03",
   "metadata": {
    "tags": []
   },
   "source": [
    "Les variables `x` et `y` sont désormais définies. Dans la suite, vous pouvez les utiliser et travailler avec. Autrement dit, les notebooks sont un moyen pour excécuter du code progressivement. \n",
    "Exécuter la cellule suivante pour calculer le carré de `y`."
   ]
  },
  {
   "cell_type": "code",
   "execution_count": null,
   "id": "0636fb2d-ff25-416e-93eb-1508df57d497",
   "metadata": {
    "tags": []
   },
   "outputs": [],
   "source": [
    "y**2"
   ]
  },
  {
   "cell_type": "markdown",
   "id": "43b7bcd0-660b-4a5d-9a05-daec70485e81",
   "metadata": {},
   "source": [
    "Au fur et à mesure que vous exécutez des cellules de code, vous voyez apparaître des numéros entre crochets à gauche de la cellule. Ces numéros vous aident à garder une trace de l'ordre dans lequel vous exécutez les cellules. Juste pour voir, revenez à la première cellule de code et modifiez la valeur de `y`. Puis, réexécutez la cellule. Cela change la sortie de la première cellule, mais pas de la deuxième (alors que la valeur de `y` a changé). Les numéros entre crochets vous permettent donc de vous répérer plus facilement.\n",
    "\n",
    "Parfois, quand on vient d'exécuter plein de cellules, on perd un peu le contrôle, et on ne sait plus quelles sont les valeurs actuelles des différentes variables. Dans ce cas, il vaut mieux de reprendre à zéro. Pour cela, sélectionnez **Kernel** en haut de la page et choissisez **Restart**. Vous pouvez observer que tous les numéros entre crochets disparaissent ainsi que toutes les sorties en-dessous des cellules de code. Un **Restart** du **Kernel** revient alors à supprimer tous les objets créés.\n",
    "\n",
    "Vous pouvez modifier un notebook comme bon vous semble. Par exemple pour ajouter une cellule, cliquer sur le symbole **+** dans la barre à outils. Cela crée une nouvelle cellule juste en-dessous de la dernière cellule sélectionnée. Par défaut, il s'agit d'une cellule de code dans laquelle vous pouvez écrire des instructions en `python`. Si la nouvelle cellule doit contenir du texte, il suffit de modifier son type par le menu déroulant en changeant **Code** en **Markdown**. Le **Markdown** permet d'écrire du texte, le formatage est très simple. Si cela vous intéresse, double-cliquez sur les cellules de type **Markdown** dans ce notebook pour voir comment ajouter un titre, mettre du texte **en gras** ou *en italique*, créer une liste etc. N'oubliez pas qu'il faut aussi exécuter les cellules **Markdown** en appuyant sur la flèche vers la droite dans la barre à outils."
   ]
  },
  {
   "cell_type": "code",
   "execution_count": null,
   "id": "0d6df987-a11e-40ec-b640-dd80926fcba1",
   "metadata": {
    "attributes": {
     "classes": [],
     "eval": "FALSE",
     "id": ""
    },
    "tags": []
   },
   "outputs": [],
   "source": [
    "x <- 17\n",
    "x\n",
    "y <- x + 3\n",
    "y"
   ]
  },
  {
   "cell_type": "markdown",
   "id": "89f1ed13-aeb9-4f25-872e-fc540d6c1aec",
   "metadata": {},
   "source": [
    "Pour des rappels sur le langage `python` et sur le module `numpy` nous renvoyons sur les pages suivantes:\n",
    "\n",
    "- [rappels python](https://perso.lpsm.paris/~vlemaire/4ma074/tp/outils/bases_python.html): parcourir rapidement cette page pour se rafraichir la mémoire sur python\n",
    "- [numpy array](https://perso.lpsm.paris/~vlemaire/4ma074/tp/outils/numpy.html): structure de donnée que l'on utilisera tout au long de ce cours: **à connaitre rapidement!** \n",
    "\n",
    "Dans la cellule suivante, on charge les modules que l'on utilisera pendant ces séances de TP. "
   ]
  },
  {
   "cell_type": "code",
   "execution_count": null,
   "id": "ffd70230-5922-4067-a67f-f9747f4b2f71",
   "metadata": {
    "tags": []
   },
   "outputs": [],
   "source": [
    "import numpy as np\n",
    "from scipy import stats\n",
    "import matplotlib.pyplot as plt\n",
    "import seaborn as sns # pour des jolis plot\n",
    "sns.set_theme() "
   ]
  },
  {
   "cell_type": "markdown",
   "id": "203a42cd-983a-44c9-9338-3cd70c49c3f7",
   "metadata": {},
   "source": [
    "## Nombres pseudo-aléatoires\n",
    "\n",
    "Depuis la version 1.17 de `numpy` en juillet 2019, le module `random` a évolué. Vous trouverez encore beaucoup de code sur internet ou dans des livres qui n'utilisent pas la nouvelle syntaxe de ce module, mais dans ce cours nous utiliserons cette nouvelle syntaxe. La différence majeure (en dehors des algorithmes utilisés en interne) est l'utilisation d'un **objet** que nous appelerons `rng` de type `Generator` qui correspond au générateur de nombres pseudo-aléatoires. Pour simuler une loi classique on fera appel à **une méthode**. \n",
    "\n",
    "Par défaut, l'algorithme utilisé est le `PCG64` à la différence du Mersenne-Twister qui était le standard auparavant. \n",
    "\n",
    "Exécuter les commandes suivantes."
   ]
  },
  {
   "cell_type": "code",
   "execution_count": null,
   "id": "29e5839c-7d26-41f5-b365-08c93425a9d9",
   "metadata": {
    "tags": []
   },
   "outputs": [],
   "source": [
    "import numpy as np\n",
    "from numpy.random import default_rng\n",
    "\n",
    "rng = default_rng()\n",
    "print(\"Le type de l'objet rng est: \", rng)\n",
    "print(\"Les méthodes utilisables avec l'objet rng sont:\\n\", dir(rng))"
   ]
  },
  {
   "cell_type": "markdown",
   "id": "088f068a-b3d8-435a-b8f2-b7f93dc01e0d",
   "metadata": {},
   "source": [
    "L'objet `rng` est défini une fois pour toute et tout l'aléatoire de notre code se fera par des appels à des méthodes de cet objet. C'est un peu comme si on fixait un espace de probabilité $(\\Omega, \\mathcal{A}, \\mathbf{P})$ (notre espace de simulation) et que l'on construisait toutes les variables aléatoires sur cet espace.\n",
    "\n",
    "Vérifions tout d'abord que les nombres pseudo-aléatoires produits $(X_1, \\dots, X_n)$ sont uniforméments répartis et qu'il y a indépendance entre 2 tirages $X_k$ et $X_{k+1}$ pour $k=1,\\dots,n-1$. On fait cette vérification uniquement visuellement en traçant l'histogramme de l'échantillon $(X_1, \\dots, X_n)$ et le nuage de points des paires adjacentes $(X_k, X_{k+1})_{k=1,\\dots,n-1}$ (ce nuage doit remplir uniformément le carré unité $[0,1]\\times[0,1]$).\n",
    "\n",
    "Voici le graphique obtenu avec un échantillon de taille $n = 100\\,000$.\n",
    "\n",
    "![](img/pseudo_alea.png)"
   ]
  },
  {
   "cell_type": "markdown",
   "id": "daeadd7f-1b75-4b38-b6ad-f561c7cc88db",
   "metadata": {
    "tags": [
     "question"
    ]
   },
   "source": [
    "### Question: `rng.random`\n",
    "Lire la documentation de la fonction `rng.random`. Construire un échantillon `sample` de taille `100000`. Reproduire le graphe de l'histogramme de `sample` et des paires adjacentes ci-dessus (le nombre de `bins` pour l'histogramme est 20 et la taille d'un point est `s=0.5` de transparence `alpha=0.2`)."
   ]
  },
  {
   "cell_type": "code",
   "execution_count": null,
   "id": "65fa00f3-0e1b-4824-8569-afe4153a2774",
   "metadata": {
    "tags": [
     "aremplir"
    ]
   },
   "outputs": [],
   "source": []
  },
  {
   "cell_type": "markdown",
   "id": "74efe4f3",
   "metadata": {},
   "source": [
    "## La loi exponentielle\n",
    "\n",
    "On considère la loi exponentielle de paramètre $\\lambda = 2$. On rappelle la densité $f_\\lambda$ et l'inverse de la fonction de répartition (la fonction quantile) $F_\\lambda^{-1}$\n",
    "\n",
    "$$\n",
    "f_\\lambda(x) = \\lambda e^{-\\lambda x} \\mathbf{1}_{x > 0} \\quad \\text{et} \\quad \\forall u \\in [0, 1[, \\; F_\\lambda^{-1}(u) = \\frac{-\\log(1-u)}{\\lambda}.\n",
    "$$\n"
   ]
  },
  {
   "cell_type": "markdown",
   "id": "41a0c5bf-664f-40f9-b4d3-00ebb13185bf",
   "metadata": {
    "tags": [
     "question"
    ]
   },
   "source": [
    "### Question: 2 façons de simuler\n",
    "\n",
    "On veut comparer 2 échantillons de taille $n = 10\\,000$ de la loi $\\mathcal{E}(\\lambda)$, $\\lambda = 2$:\n",
    "\n",
    "- le premier `sample_numpy` obtenu par un appel de `rng.exponential`\n",
    "- le second `sample_quantile` obtenu par transformation par $F_\\lambda^{-1}$ d'un échantillon $(U_1, \\dots, U_n)$ _i.i.d._ avec $U_i \\sim \\mathcal{U}([0, 1[)$.\n",
    "\n",
    "Vérifier que la moyenne de chacun de ces échantillons est proche de $\\frac{1}{\\lambda}$."
   ]
  },
  {
   "cell_type": "code",
   "execution_count": null,
   "id": "85822341-6d6f-42ab-b572-746f118d2adc",
   "metadata": {
    "tags": [
     "aremplir"
    ]
   },
   "outputs": [],
   "source": []
  },
  {
   "cell_type": "markdown",
   "id": "e586765d-300c-4972-bfe9-79eedd75fb63",
   "metadata": {
    "tags": [
     "question"
    ]
   },
   "source": [
    "### Question: représentation graphique\n",
    "\n",
    "On compare graphiquement les histogrammes de ces échantillons `sample_numpy` et `sample_quantile` avec la densité de la loi exponentielle (de paramètre $\\lambda=2$). Ecrire le code pour obtenir le graphique suivante:\n",
    "\n",
    "![](img/expo.png)"
   ]
  },
  {
   "cell_type": "code",
   "execution_count": null,
   "id": "5e89e544-d1f5-451a-bbc4-ae6f2c269f85",
   "metadata": {
    "tags": [
     "aremplir"
    ]
   },
   "outputs": [],
   "source": []
  },
  {
   "cell_type": "markdown",
   "id": "821dc76d-5b0d-4146-8d36-e50b2e090f0e",
   "metadata": {
    "tags": [
     "question"
    ]
   },
   "source": [
    "### Question: utilisation de `scipy.stats`\n",
    "\n",
    "Reprendre les 2 questions précédentes en utilisant un objet `E` de classe `stats.expon`. Lire la documentation de cette classe et utiliser les méthodes `rvs` (avec l'argument `random_state=rng`), `ppf` et `pdf`. Le but est d'écrire un code qui pourrait s'executer avec n'importe quelle loi à densité (une classe qui contient un méthode `pdf` et non `pmf`). "
   ]
  },
  {
   "cell_type": "code",
   "execution_count": null,
   "id": "2cc9836e-9f08-4044-bec8-bd15d51df564",
   "metadata": {
    "tags": [
     "aremplir"
    ]
   },
   "outputs": [],
   "source": []
  },
  {
   "cell_type": "markdown",
   "id": "c48b03e3-6de1-4bf0-8238-d5f11bb57a88",
   "metadata": {},
   "source": [
    "## Illustration de la méthode du rejet"
   ]
  },
  {
   "cell_type": "markdown",
   "id": "c709d792-02bc-427d-8be6-a05f700cf5df",
   "metadata": {},
   "source": [
    "On propose d'illustrer la méthode du rejet dans le cas d'une loi bêta de paramètres $\\alpha > 1$ et $\\beta > 1$. On rappelle la forme de la densité de la loi\n",
    "\n",
    "$$\n",
    "  f_{\\alpha, \\beta}(x) = \\frac{1}{B(\\alpha, \\beta)} \n",
    "  x^{\\alpha-1} (1-x)^{\\beta-1} \\mathbf{1}_{[0,1]}(x)\n",
    "$$\n",
    "\n",
    "où $B(\\alpha, \\beta)$ est la constante de normalisation de la loi. "
   ]
  },
  {
   "cell_type": "markdown",
   "id": "14bc87a5-0b6b-4cc2-bce3-529bed7dde02",
   "metadata": {
    "tags": [
     "question"
    ]
   },
   "source": [
    "### Question: illustration du rejet\n",
    "\n",
    "Le but est de créer le graphique suivant représentant la méthode du rejet pour une loi bêta de paramètres $\\alpha = 1.5$ et $\\beta = 3$ et une loi auxiliaire qui est la loi uniforme sur $[0,1]$, c'est à dire $g(x) = \\mathbf{1}_{[0,1]}(x)$. La ligne rouge represente $c g(x)$ avec $c = 2$, la courbe bleue correspond à la densité $f_{\\alpha, \\beta}$, les points bleus sont les réalisations acceptées (parmi 5000 réalisations) et les points orangés sont les réalisations rejetées.\n",
    "\n",
    "![](img/rejet.png)"
   ]
  },
  {
   "cell_type": "code",
   "execution_count": null,
   "id": "f427a3a8-4a48-40cf-b646-c33e9257a0ed",
   "metadata": {
    "tags": [
     "aremplir"
    ]
   },
   "outputs": [],
   "source": []
  },
  {
   "cell_type": "markdown",
   "id": "8ad3c29e-0b2f-4946-ae5c-4a5b46773dca",
   "metadata": {
    "tags": [
     "question"
    ]
   },
   "source": [
    "### Question: optimisation de la constante $c$ \n",
    "\n",
    "La constante optimale $c$ que l'on peut utiliser dans cet exemple (en considérant $g(x) = \\mathbf{1}_{[0,1]}(x)$) est $c^* = \\max_{x \\in [0,1]} f_{\\alpha, \\beta}(x)=f_{\\alpha,\\beta}(x^*)$. On peut calculer explicitement ce maximum qui correspond au mode de la distribution bêta\n",
    "\n",
    "$$\n",
    "    x^* = \\operatorname{argmax}_{x \\in [0,1]} f_{\\alpha, \\beta}(x) = \\frac{\\alpha-1}{\\alpha + \\beta - 2} \\quad \\text{pour $\\alpha > 1, \\beta > 1$}.\n",
    "$$\n",
    "\n",
    "Dans un cas plus général on ne connaît pas forcément ce maximum mais on peut l'approcher et trouver une approximation par un algorithme type dichotomie ou descente de gradient (méthode de Newton). \n",
    "\n",
    "Utiliser la fonction `scipy.optimize.minimize_scalar` (après avoir lu la documentation) avec les options `bounds=(0, 1)` et `method=\"bounded\"` pour trouver la valeur $c^*$."
   ]
  },
  {
   "cell_type": "code",
   "execution_count": null,
   "id": "9bef9537-5d4a-444b-b145-c1571cc43263",
   "metadata": {
    "tags": [
     "aremplir"
    ]
   },
   "outputs": [],
   "source": []
  },
  {
   "cell_type": "markdown",
   "id": "c132c2ad",
   "metadata": {},
   "source": [
    "## Loi binomiale: définition probabiliste _vs_ inverse de la fonction de répartition\n",
    "\n",
    "On veut comparer deux algorithmes pour la simulation d'une loi binomiale $X \\sim B(n, p)$, $n \\ge 2$, $p \\in ]0,1[$.\n",
    "\n",
    "- Le premier algorithme utilise la définition de la loi binomiale comme somme de $n$ variables aléatoires $(B_1, \\dots, B_n)$ indépendantes de Bernoulli de paramètre $p \\in ]0,1[$, $\\mathbf{P}[B_1 = 1] = p = 1 - \\mathbf{P}[B_1 = 0]$, \n",
    "\n",
    "$$\n",
    "  X = \\sum_{k=1}^n B_k. \n",
    "$$ \n",
    "\n",
    "- Le deuxième algorithme utilise l'inverse de la fonction de répartition de la loi binomiale. "
   ]
  },
  {
   "cell_type": "markdown",
   "id": "bb82c513-e77d-4526-8b44-ebeaa2095461",
   "metadata": {
    "tags": [
     "question"
    ]
   },
   "source": [
    "### Question: algorithme 1.\n",
    "\n",
    "Compléter la fonction `binomial_from_def` qui implémente naïvement le premier algorithme et renvoie un échantillon de taille `size`. Attention cette première approche (la plus naturelle quand on débute) sera améliorée dans la suite. Ce n'est pas la façon optimale d'écrire le code en `numpy`.\n",
    "```\n",
    "def binomial_from_def(size: int, n: int=2, p: float=0.5):\n",
    "    \"\"\" \n",
    "    Draw samples from a binomial distribution B(n, p).\n",
    "    Algorithm: first implementation of sum of independent Bernoulli trials.\n",
    "    \"\"\"\n",
    "    def one_realization():\n",
    "        # code à écrire\n",
    "    # code à écrire\n",
    "    return sample\n",
    "```\n",
    "\n",
    "Vérifier que le code est correct en traçant l'histogramme d'un échantillon de taille $10\\,000$. Vous devez obtenir ce graphique:\n",
    "\n",
    "![](img/binom_def.png)"
   ]
  },
  {
   "cell_type": "code",
   "execution_count": null,
   "id": "421400d2-e23d-4dd7-b33d-14b99ef4dab9",
   "metadata": {
    "tags": [
     "aremplir"
    ]
   },
   "outputs": [],
   "source": []
  },
  {
   "cell_type": "markdown",
   "id": "aee9a93c-a97a-421e-8cca-8edbb6106ba6",
   "metadata": {
    "tags": [
     "question"
    ]
   },
   "source": [
    "### Question: algorithme 2. \n",
    "\n",
    "Ecrire une fonction `binomial_quantile` similaire à celle de la question précédente: qui prend les mêmes arguments et qui renvoie un échantillon de taille `size`. Vérifier graphiquement que l'échantillon produit vérifie la bonne distribution."
   ]
  },
  {
   "cell_type": "code",
   "execution_count": null,
   "id": "d3a2f3aa-a62b-4424-abb1-937de9c9278c",
   "metadata": {
    "tags": [
     "aremplir"
    ]
   },
   "outputs": [],
   "source": []
  },
  {
   "cell_type": "markdown",
   "id": "e86c7583-1b18-4e4e-bd63-10b0d338b0e3",
   "metadata": {
    "tags": [
     "question"
    ]
   },
   "source": [
    "### Question: temps de calcul\n",
    "\n",
    "Pour mesurer le temps de calcul, on utilisera le module `timeit` de python. Dans l'environnement `jupyter` il est encore plus facile d'utiliser ce module grâce à une _magic_ commande appelée `%timeit`. Pour en savoir plus sur ces _magic_ commandes vous pouvez [consulter cette page de documentation](https://ipython.readthedocs.io/en/stable/interactive/magics.html).\n",
    "\n",
    "Pour mesurer le temps de calcul complet d'une cellule notebook on utilise `%%timeit`. Le résultat est une moyenne de plusieurs exécutions."
   ]
  },
  {
   "cell_type": "code",
   "execution_count": null,
   "id": "7ea73959-5e7f-42bb-ab53-402ca77b7a23",
   "metadata": {
    "tags": [
     "aremplir"
    ]
   },
   "outputs": [],
   "source": [
    "%%timeit \n",
    "size = 10000\n",
    "liste = [i for i in range(size)]"
   ]
  },
  {
   "cell_type": "markdown",
   "id": "fc5be755-f42f-4a5b-8006-547e11bd7f20",
   "metadata": {},
   "source": [
    "Pour mesurer le temps d'une seule instruction on utiliser `%timeit` en début de ligne. L'option `-o` permet de sauvegarder le résultat: les mesures des temps d'exécutions et les statistiques associées."
   ]
  },
  {
   "cell_type": "code",
   "execution_count": null,
   "id": "daf24ad0-9500-4bf0-96a1-96d83b62a4d1",
   "metadata": {
    "tags": []
   },
   "outputs": [],
   "source": [
    "size = 10000\n",
    "%timeit liste = [i for i in range(size)] # pas de sauvegarde du résultat"
   ]
  },
  {
   "cell_type": "code",
   "execution_count": null,
   "id": "7235e5a0-e0ec-4532-a115-00e5b1a7687e",
   "metadata": {
    "tags": []
   },
   "outputs": [],
   "source": [
    "timings = %timeit -o liste = [i for i in range(size)]\n",
    "print(dir(timings))\n",
    "print(\"Mean time: \", timings.average)"
   ]
  },
  {
   "cell_type": "markdown",
   "id": "2454a0fe-4871-4087-8c78-0d764c9edd83",
   "metadata": {},
   "source": [
    "Comparer les temps d'exécutions des 2 fonctions `binomial_from_def` et `binomial_quantile` pour différentes valeurs de `size` (par exemple `10000` et `100000`) et de `n` (par exemple `20`, `50` et `200`)."
   ]
  },
  {
   "cell_type": "code",
   "execution_count": null,
   "id": "5cfe44fe-e003-4e8a-8d05-e5c99eff7c3c",
   "metadata": {
    "tags": [
     "aremplir"
    ]
   },
   "outputs": [],
   "source": []
  },
  {
   "cell_type": "markdown",
   "id": "5da5597e-a686-43e8-95a1-b52e6fbdde9d",
   "metadata": {
    "tags": [
     "question"
    ]
   },
   "source": [
    "### Question: code plus efficace \n",
    "\n",
    "Le code de la fonction `binomial_from_def` n'est pas du tout optimal. En effet, en `numpy` (et dans la plupart des langages interprétés) lorsque c'est possible il faut simuler tout l'échantillon d'un coup sans boucle `for`. Dans l'algorithme 1., pour simuler un échantillon de taille `size` on a besoin de `size x n` variables de Bernoullis: on les simule donc d'un seul coup puis on somme uniquement sur l'axe 1 (c'est à dire l'axe de taille `n`). Cette réduction par axe donne un `np.array` de dimension 1 de taille `size`. \n",
    "\n",
    "Cette approche vectorielle est importante et sera utilisée dans la suite lorsque c'est possible.\n",
    "\n",
    "Ecrire la fonction `binomial_from_def_vec` qui implémente l'algorithme 1. de façon efficace et comparer les temps de calculs avec les fonctions précédentes."
   ]
  },
  {
   "cell_type": "code",
   "execution_count": null,
   "id": "21bd93c8-4932-4d12-953f-322b63ad4f6e",
   "metadata": {
    "tags": [
     "aremplir"
    ]
   },
   "outputs": [],
   "source": []
  }
 ],
 "metadata": {
  "kernelspec": {
   "display_name": "Python 3 (ipykernel)",
   "language": "python",
   "name": "python3"
  },
  "language_info": {
   "codemirror_mode": {
    "name": "ipython",
    "version": 3
   },
   "file_extension": ".py",
   "mimetype": "text/x-python",
   "name": "python",
   "nbconvert_exporter": "python",
   "pygments_lexer": "ipython3",
   "version": "3.10.4"
  },
  "toc-autonumbering": true,
  "toc-showcode": false,
  "toc-showtags": true
 },
 "nbformat": 4,
 "nbformat_minor": 5
}
