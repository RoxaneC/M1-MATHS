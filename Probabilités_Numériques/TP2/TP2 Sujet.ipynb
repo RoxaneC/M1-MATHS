{
 "cells": [
  {
   "cell_type": "markdown",
   "id": "ad8e788e-fef5-40c8-a9ea-f3210e24a409",
   "metadata": {},
   "source": [
    "# Copule et chaîne de Markov\n",
    "\n",
    "Dans cette feuille, on s'intéresse à la simulation de vecteurs aléatoires. \n",
    "\n",
    "- Dans la première partie on simule un vecteur $(\\tau_1, \\dots, \\tau_n)$ dont la dépendance entre les composantes est donnée par une fonction copule, on parle de dépendance spatiale. \n",
    "- Dans la deuxième partie, on simule un vecteur $(X_0, \\dots, X_n)$ dont la dépendance est temporelle, c'est à dire qu'on construit $X_{k+1}$ à partir de $X_k$ et d'un aléa indépendant. C'est un exemple de chaîne de Markov."
   ]
  },
  {
   "cell_type": "markdown",
   "id": "61091c92-5312-424e-ae72-038e28f9b48d",
   "metadata": {},
   "source": [
    "## Copule Gaussienne et instants de défaut"
   ]
  },
  {
   "cell_type": "markdown",
   "id": "20cf86cc-75a6-4d46-8691-1541a15d3615",
   "metadata": {},
   "source": [
    "On considère la modélisation suivante: soit $\\tau_1, \\dots, \\tau_n$ des variables aléatoires exponentielles de paramètre $\\lambda_i > 0$ qui représentent $n$ instants de défaut (instant de défaillance d'un composant en fiabilité, instant de défaut d'une entreprise en finance, instant de mutation en biologie, etc). On suppose que ces $n$ instants sont corrélés par la copule Gaussienne $C$ de matrice de covariance $\\Sigma_{i,i} = 1$ et $\\Sigma_{i,j} = \\rho \\in [0,1]$ pour $i \\neq j$. \n",
    "\n",
    "Dans un premier temps on s'intéresse à la simulation du vecteur $U = (U_1,\\dots,U_n)$ correspondant à la copule $C$ i.e. pour tout $i \\in \\{1,\\dots,n\\}, U_i \\sim \\mathcal{U}([0,1])$ et $C(u_1,\\dots,u_n) = \\mathbf{P}[U_1 \\le u_1,\\dots,U_n\\le u_n]$. On peut montrer que $U$ se représente sous la forme \n",
    "\n",
    "$$\n",
    "    \\forall i \\in \\{1,\\dots,n\\}, \\quad U_i = \\Phi\\bigl(\\sqrt{\\rho} G_0 + \\sqrt{1 - \\rho} G_i \\bigr),\n",
    "$$\n",
    "\n",
    "où $(G_0,G_1,\\dots, G_n)$ est un vecteur normal standard de $\\mathbf{R}^{n+1}$ et $\\Phi$ est la fonction de répartition gaussienne standard (fonction `norm` dans le module `scipy.stats`). "
   ]
  },
  {
   "cell_type": "code",
   "execution_count": null,
   "id": "36880c49-6287-4ab6-aee9-04942e01bcd4",
   "metadata": {
    "tags": []
   },
   "outputs": [],
   "source": [
    "import numpy as np\n",
    "from scipy import stats\n",
    "import matplotlib.pyplot as plt\n",
    "import seaborn as sns\n",
    "sns.set_theme() \n",
    "from numpy.random import default_rng\n",
    "rng = default_rng()"
   ]
  },
  {
   "cell_type": "markdown",
   "id": "eac4c72d-349d-4a45-9fd6-8ec2b2991c86",
   "metadata": {
    "tags": [
     "question"
    ]
   },
   "source": [
    "### Question: simulation de la copule gaussienne\n",
    "\n",
    "Ecrire une fonction qui prend 3 arguments: `size`, `n` et `rho` et qui renvoie un échantillon de taille `size` de réalisations $(U_1,\\dots,U_n)$ obtenues par la construction précédente.  \n",
    "Dans toute la suite `n` est la dimension de la copule qui sera par exemple 10, et non le nombre de réalisations considérées. "
   ]
  },
  {
   "cell_type": "code",
   "execution_count": null,
   "id": "8799f229-e90c-4537-820d-6540ffabe72a",
   "metadata": {
    "tags": [
     "aremplir"
    ]
   },
   "outputs": [],
   "source": []
  },
  {
   "cell_type": "markdown",
   "id": "854640e2-ea88-450d-bc2f-dc5c3e0ea194",
   "metadata": {
    "tags": [
     "question"
    ]
   },
   "source": [
    "### Question: représentation de la copule gaussienne \n",
    "\n",
    "Reproduire le tracé suivant à partir d'échantillons $\\big(U_1^{(j)}, U_2^{(j)}\\big)_{1 \\le j \\le M}$ de taille $M = 2000$ de réalisations de la copule gaussienne en dimension 2 et de corrélation $\\rho= 0.2$ puis $\\rho = 0.8$. Que remarquez-vous?  \n",
    "\n",
    "Compléter ce tracé en vérifiant graphiquement que la loi empirique de chaque composante $\\big(U_i^{(j)}\\big)_{1 \\le j \\le M}$ pour $i=1,2$ est proche de la loi uniforme sur $[0,1]$. Vous pouvez augmenter la taille de $M$.\n",
    "\n",
    "![](img/copula.png)"
   ]
  },
  {
   "cell_type": "code",
   "execution_count": null,
   "id": "b83ef8fc-354b-4183-bb14-a3038d6271b5",
   "metadata": {
    "tags": [
     "aremplir"
    ]
   },
   "outputs": [],
   "source": []
  },
  {
   "cell_type": "markdown",
   "id": "fe0bf92f-95e7-4698-ad77-178ca006f18c",
   "metadata": {},
   "source": [
    "On revient maintenant au problème des instants de défaut dont on rappelle que $\\tau_i \\sim \\mathcal{E}(\\lambda_i)$. On s'intéresse à la variable aléatoire \n",
    "\n",
    "$$\n",
    "    X = \\sum_{i = 1}^n \\mathbf{1}_{\\tau_i \\le 1}.\n",
    "$$\n",
    "\n",
    "C'est donc une **variable aléatoire discrète** à valeurs dans $\\{0,\\dots,n \\}$. "
   ]
  },
  {
   "cell_type": "markdown",
   "id": "7105f783-f2d3-4cc7-ac33-42e6c139dda6",
   "metadata": {
    "tags": [
     "question"
    ]
   },
   "source": [
    "### Question: simulation des instants de défaut\n",
    "\n",
    "Ecrire une fonction (avec les arguments adhoc) pour simuler un échantillon de $X$.  \n",
    "On utilise dans la suite $n =20$ instants de défaut et $\\lambda_i = 0.4$ pour tout $i \\in \\{1,\\dots,n\\}$."
   ]
  },
  {
   "cell_type": "code",
   "execution_count": null,
   "id": "f4b00f95-8a30-47c7-adef-9ef2af797597",
   "metadata": {
    "tags": [
     "aremplir"
    ]
   },
   "outputs": [],
   "source": []
  },
  {
   "cell_type": "markdown",
   "id": "ff4e517e-9a61-4de3-a094-effb296b8a4e",
   "metadata": {
    "tags": [
     "question"
    ]
   },
   "source": [
    "### Question: création d'un ensemble de scénarios `samples`\n",
    "\n",
    "Créer un vecteur `rhos` de taille 4 avec les valeurs $(0,0.2,0.6,0.8)$ et créer une matrice `samples` de 4 lignes et 20000 colonnes, dont chaque ligne sera remplie par des simulations de $X$ pour une valeur de `rho` donnée.\n",
    "Remplir cette matrice avec réalisations de $X$. Il faut que les éléments de la matrice `sample` soit de type entier `np.int64`.\n",
    "\n",
    "Cette matrice sera utilisée dans la suite pour le calcul de la moyenne et le tracé des histogrammes.  "
   ]
  },
  {
   "cell_type": "code",
   "execution_count": null,
   "id": "6b1ef28a-6110-406f-a248-d6e5759c06d8",
   "metadata": {
    "tags": [
     "aremplir"
    ]
   },
   "outputs": [],
   "source": []
  },
  {
   "cell_type": "markdown",
   "id": "a7da1000-dbf3-4703-a645-0416a2b280c6",
   "metadata": {
    "tags": [
     "question"
    ]
   },
   "source": [
    "### Question: calcul de la moyenne \n",
    "\n",
    "Calculer (mathématiquement) $\\mathbf{E}[X]$ en fonction de $\\rho$ et vérifier ce résultat en calculant la moyenne empirique de chaque ligne de la matrice `samples` des réalisations de $X$."
   ]
  },
  {
   "cell_type": "code",
   "execution_count": null,
   "id": "193b8cd7-9b4a-45b8-8fce-726817e95809",
   "metadata": {
    "tags": [
     "aremplir"
    ]
   },
   "outputs": [],
   "source": []
  },
  {
   "cell_type": "markdown",
   "id": "24a76c81-5cb5-43f0-8f92-7f474c1870dd",
   "metadata": {
    "tags": [
     "question"
    ]
   },
   "source": [
    "### Question: représentation graphique de `samples` \n",
    "\n",
    "![](img/empirical_X.png)"
   ]
  },
  {
   "cell_type": "code",
   "execution_count": null,
   "id": "1c663c8b-f2ab-42a2-9b41-9773d05bb238",
   "metadata": {
    "tags": [
     "aremplir"
    ]
   },
   "outputs": [],
   "source": []
  },
  {
   "cell_type": "markdown",
   "id": "99955b92-dc96-4c8f-9563-e023c24dfa99",
   "metadata": {},
   "source": [
    "## Simulation d'une chaîne de Markov: Urnes d'Ehrenfest\n",
    "\n",
    "On considère $d$ balles ($d > 1$) numérotées de 1 à $d$ et réparties initialement dans deux urnes $A$ et $B$. On note $E = \\{1,\\dots,d\\}$ l'ensemble des balles et on s'intéresse à l'évolution du contenu des urnes après un nombre $n \\ge 1$ de changements d'états. Un changement d'état est modélisé de la façon suivante: \"_on tire un numéro de balle selon la loi uniforme sur $E$ et à un tirage $i$ on déplace la balle numéro $i$ d'une urne à l'autre_\". Le contenu des urnes change au cours du temps et on note $A_n$ le contenu de $A$ à l'itération $n$ (de même $B_n$ est le contenu de $B$ au temps $n$). Ce modèle porte le nom d'[Urnes d'Ehrenfest](https://fr.wikipedia.org/wiki/Mod%C3%A8le_des_urnes_d%27Ehrenfest). \n",
    "\n",
    "Dans le programme de test on prendra $d = 20$ c'est à dire $E = \\{1,\\dots,20\\}$ et le contenu initial $A_0 = \\{1,\\dots,10\\}$. "
   ]
  },
  {
   "cell_type": "markdown",
   "id": "f6430dd0-2098-4e99-85b3-91d4465b6df8",
   "metadata": {},
   "source": [
    "### Approche naïve\n",
    "\n",
    "On commence par une approche naïve qui consiste à programmer l'évolution du contenu de l'urne. Si on s'intéresse uniquement au nombre de balles dans chaque urne, il est plus commode d'utiliser la propriété de Markov du système, aussi bien pour l'étude mathématique que pour la programmation."
   ]
  },
  {
   "cell_type": "markdown",
   "id": "e7effa6b-61d8-48d9-b41a-d685e139db0b",
   "metadata": {
    "tags": [
     "question"
    ]
   },
   "source": [
    "#### Question: pour manipuler le type `list`\n",
    "\n",
    "En utilisant le type `list` initaliser les listes `E` et `A_0`, puis programmer l'évolution du contenu de l'urne pas à pas (par exemple en utilisant les méthodes `remove` et `append`). Afficher le résultat `A_n` et `B_n` après `n = 100` itérations."
   ]
  },
  {
   "cell_type": "code",
   "execution_count": null,
   "id": "ec797691-c22a-4586-8e9b-5e91f86f1389",
   "metadata": {
    "tags": [
     "aremplir"
    ]
   },
   "outputs": [],
   "source": []
  },
  {
   "cell_type": "markdown",
   "id": "6850ed86-fd79-4a46-be3a-9db1fadaacab",
   "metadata": {
    "tags": [
     "question"
    ]
   },
   "source": [
    "#### Question: pour manipuler le type `set`\n",
    "\n",
    "Reprendre la question précédente avec le type `set` et les méthodes associées: `add` et `remove`."
   ]
  },
  {
   "cell_type": "code",
   "execution_count": null,
   "id": "1cd2a51b-a62e-48ef-beb3-aab46c423343",
   "metadata": {
    "tags": [
     "aremplir"
    ]
   },
   "outputs": [],
   "source": []
  },
  {
   "cell_type": "markdown",
   "id": "b23a99ea-95d8-4690-8416-8e7e2c55e383",
   "metadata": {
    "tags": [
     "question"
    ]
   },
   "source": [
    "#### Question facultative\n",
    "\n",
    "Cette construction itérative nécessaire dans des dynamiques plus complexes peut être améliorée de la façon suivante. Si on construit un vecteur `sample` des `n` réalisations de la loi uniforme sur $E$, on peut en déduire directement la composition des urnes à l'itération $n$. En effet la balle $i$ n'a pas changé d'urne entre 0 et $n$ si et seulement si le numéro $i$ apparait un nombre pair de fois dans `sample`.\n",
    "\n",
    "Construire directement `A_n` et `B_n` à partir d'un vecteur `sample` de taille `n` qui contient les réalisations de la loi uniforme sur $E$."
   ]
  },
  {
   "cell_type": "code",
   "execution_count": null,
   "id": "4cf7abde-cfae-4cc0-9b02-df4b25fad5f3",
   "metadata": {
    "tags": [
     "aremplir"
    ]
   },
   "outputs": [],
   "source": []
  },
  {
   "cell_type": "markdown",
   "id": "03408529-c663-4580-a43e-31fbeea7ae26",
   "metadata": {},
   "source": [
    "### Modélisation en tant que chaîne de Markov"
   ]
  },
  {
   "cell_type": "markdown",
   "id": "265a3304-71c1-47cc-a699-b3db2e9568fc",
   "metadata": {},
   "source": [
    "On s'intéresse maintenant non plus à la composition de l'urne $A_n$ mais uniquement à sa taille. On note $X_n = \\mathrm{Card}(A_n)$. L'évolution de $X_n$ se fait de la façon suivante: si l'urne $A_n$ contient $X_{n}$ balles alors la probabilité de tirer une balle présente dans $A_n$ est $\\frac{X_{n}}{d}$. Ainsi avec probabilité $\\frac{X_{n}}{d}$, $X_{n+1} = X_n - 1$ (car on déplace la balle dans l'urne $B$), et avec probabilité $\\frac{d-X_n}{d}$ on a $X_{n+1} = X_n + 1$. La récurrence aléatoire suivante permet de construire une trajectoire $(X_0, \\dots, X_n)$ \n",
    "\n",
    "$$\n",
    "    \\forall k \\ge 0, \\quad X_{k+1} = X_k + 1 - 2 \\mathbf{1}_{ \\left\\{U_{k+1} < \\frac{X_k}{d} \\right\\}}, \\qquad X_0 \\in \\{0,\\dots,d\\},\n",
    "$$\n",
    "\n",
    "avec $(U_k)_{k \\ge 1}$ une suite de variables aléatoires indépendantes de loi uniforme sur $[0,1]$."
   ]
  },
  {
   "cell_type": "markdown",
   "id": "958ec13c-0c4f-4139-bede-b4e92d688668",
   "metadata": {
    "tags": [
     "question"
    ]
   },
   "source": [
    "#### Question: simulation de $N$ trajectoires \n",
    "\n",
    "Ecrire une fonction qui permet de simuler $N$ trajectoires indépendantes $(X_0^{(j)},\\dots, X_n^{(j)})_{1 \\le j \\le N}$ de la dynamique précédente, et qui renvoie donc un `np.array` de dimension `(N, n+1)` qui contient ces trajectoires. A vous déterminer les arguments de cette fonction."
   ]
  },
  {
   "cell_type": "code",
   "execution_count": null,
   "id": "cc970455-7426-4559-9932-d2876c974a0a",
   "metadata": {
    "tags": [
     "aremplir"
    ]
   },
   "outputs": [],
   "source": []
  },
  {
   "cell_type": "markdown",
   "id": "f1b08152-72c9-4330-83b3-e45cec91099e",
   "metadata": {
    "tags": [
     "question"
    ]
   },
   "source": [
    "#### Question: affichage de trajectoires \n",
    "\n",
    "Reproduire le graphe suivant qui représente l'évolution de 5 trajectoires de $(X_k)_{0 \\le k \\le n}$ avec $n=20$. \n",
    "\n",
    "![](img/paths.png)"
   ]
  },
  {
   "cell_type": "code",
   "execution_count": null,
   "id": "2eace689-3b2d-40c1-9b4c-8ccee3dd846a",
   "metadata": {
    "tags": [
     "aremplir"
    ]
   },
   "outputs": [],
   "source": []
  },
  {
   "cell_type": "markdown",
   "id": "d17c0fdd-dfcd-4f12-ab26-877cac031430",
   "metadata": {
    "tags": [
     "question"
    ]
   },
   "source": [
    "#### Question: représentation de la loi après $n$ itérations \n",
    "\n",
    "Représenter la distribution empirique de $(X^{(j)}_n)_{1 \\le j \\le N}$ pour $N=100\\,000$ et deux valeurs de $n$, $n = 100$ puis $n = 101$. Que remarque-t-on? Etait-ce prévisible? "
   ]
  },
  {
   "cell_type": "code",
   "execution_count": null,
   "id": "5197f282-e3f3-424f-86fb-511db2482962",
   "metadata": {
    "tags": [
     "aremplir"
    ]
   },
   "outputs": [],
   "source": []
  },
  {
   "cell_type": "markdown",
   "id": "2308287a-fd8c-4a1c-bb2e-359ddfbca5a5",
   "metadata": {
    "tags": [
     "question"
    ]
   },
   "source": [
    "#### Question: modification de la dynamique\n",
    "\n",
    "On modifie un peu la modélisation précédente en considérant la règle suivante: _\"on tire un numéro de balle selon la loi uniforme sur $E$ et à un tirage $i$ on déplace la balle numéro $i$ d'une urne à l'autre **avec probabilité 1/2**\"_.\n",
    "\n",
    "Refaire les questions précédentes avec ce nouveau modèle.\n",
    "On peut montrer que si $X_{n} \\sim \\mathcal{B}\\bigl(d, \\frac{1}{2}\\bigr)$ (loi binomiale) alors $X_{n+1} \\sim \\mathcal{B}\\bigl(d, \\frac{1}{2}\\bigr)$. On dit que la loi binomiale $\\mathcal{B}\\bigl(d, \\frac{1}{2}\\bigr)$ est invariante pour la chaine de Markov. De plus pour toute configuration initiale $X_0$ la chaine $(X_n)_{n \\ge 0}$ converge en loi vers cette mesure invariante $\\mathcal{B}\\bigl(d, \\frac{1}{2}\\bigr)$. On veut illustrer cette convergence.\n",
    "\n",
    "Comparer cette loi binomiale avec l'histogramme empirique de la loi $X_n$ pour $n$ grand (par exemple $n = 100$, vous pouvez choisir $X_0$ fixé à 10)."
   ]
  },
  {
   "cell_type": "code",
   "execution_count": null,
   "id": "2686f1b7-b496-4d2b-82dd-b85b98590ff9",
   "metadata": {
    "tags": [
     "aremplir"
    ]
   },
   "outputs": [],
   "source": []
  },
  {
   "cell_type": "code",
   "execution_count": null,
   "id": "348ad0c1-7be4-47f9-8731-30ff57e37cff",
   "metadata": {},
   "outputs": [],
   "source": []
  },
  {
   "cell_type": "markdown",
   "id": "c204b7fe-c569-47de-9515-cff937fb6fc7",
   "metadata": {},
   "source": [
    "## Processus de Poisson \n",
    "\n",
    "On considère un processus de Poisson de paramètre (ou intensité) $\\lambda > 0$, c'est à dire un processus de comptage associé à un processus ponctuel $(T_n)_{n \\ge 1}$ où les variables aléatoires $T_n$ (appelées instants de sauts) sont définies par\n",
    "\\begin{equation*}\n",
    "    \\forall n \\ge 1, \\quad T_n - T_{n-1} = S_n, \\qquad \\text{en posant $T_0 = 0$}\n",
    "\\end{equation*}\n",
    "avec $(S_n)_{n \\ge 1}$ suite _i.i.d._ de loi exponentielle de paramètre $\\lambda > 0$.\n",
    "\n",
    "Pour tout $t \\ge 0$, on définit \n",
    "\\begin{equation*}\n",
    "    N_t = \\sum_{n \\ge 0} \\mathbf{1}_{T_n \\le t},\n",
    "\\end{equation*}\n",
    "et on veut simuler une trajectoire de $(N_t)_{t \\in [0,T]}$ pour un horizon  $T > 0$ fixé. "
   ]
  },
  {
   "cell_type": "markdown",
   "id": "ddbbba1c-f7fe-4f21-b09b-7a896565bae1",
   "metadata": {
    "tags": [
     "question"
    ]
   },
   "source": [
    "### Question: simulation de trajectoires \n",
    "\n",
    "Ecrire une fonction `one_poisson_path(lambd, T)` qui renvoie les instants $(T_0, \\dots, T_n)$ d'un processus de Poisson d'intensité `lambd` restreint à $[0, T]$. Par convention, on veut que le dernier point du tableau renvoyé soit $T$.  \n",
    "Reproduire le tracé suivant.  \n",
    "![](img/poisson.png)"
   ]
  },
  {
   "cell_type": "code",
   "execution_count": null,
   "id": "c643e305-2d27-4745-9773-e6a4aec39d6f",
   "metadata": {
    "tags": [
     "aremplir"
    ]
   },
   "outputs": [],
   "source": []
  },
  {
   "cell_type": "markdown",
   "id": "5e324299-9b18-4156-b4e3-d5e8f578d823",
   "metadata": {
    "tags": [
     "question"
    ]
   },
   "source": [
    "### Question: simulation alternative \n",
    "\n",
    "On rappelle que si $(N_t)_{t \\ge 0}$ est un processus de Poisson d'intensité $\\lambda > 0$, alors conditionnellement à l'événement $N_T = n$ les instants de sauts $(T_k)_{k=1,\\dots,n}$ (tels que $0 < T_1 < \\dots < T_n \\le T$) ont même loi que le réordonnement croissant d'un vecteur $(U_1, \\dots, U_n) \\sim \\mathcal{U}([0,T]^n)$.\n",
    "\n",
    "Reprendre la question précédente en utilisant cette propriété. "
   ]
  },
  {
   "cell_type": "code",
   "execution_count": null,
   "id": "82292154-bec4-49aa-8578-751dee5cf756",
   "metadata": {
    "tags": [
     "aremplir"
    ]
   },
   "outputs": [],
   "source": []
  }
 ],
 "metadata": {
  "kernelspec": {
   "display_name": "Python 3 (ipykernel)",
   "language": "python",
   "name": "python3"
  },
  "language_info": {
   "codemirror_mode": {
    "name": "ipython",
    "version": 3
   },
   "file_extension": ".py",
   "mimetype": "text/x-python",
   "name": "python",
   "nbconvert_exporter": "python",
   "pygments_lexer": "ipython3",
   "version": "3.10.11"
  }
 },
 "nbformat": 4,
 "nbformat_minor": 5
}
