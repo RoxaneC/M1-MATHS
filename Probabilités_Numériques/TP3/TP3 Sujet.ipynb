{
 "cells": [
  {
   "cell_type": "markdown",
   "id": "6f883584-ca8b-4193-82bd-eca78426165e",
   "metadata": {},
   "source": [
    "# Méthode de Monte Carlo\n",
    "\n",
    "Tout d'abord, on illustre numériquement les deux résultats probabilistes sur lesquels reposent la méthode dite de Monte Carlo: \n",
    "\n",
    "- la loi forte de grands nombres,\n",
    "- le théorème central limit (TCL).\n",
    "\n",
    "On considère ensuite un premier exemple d'estimateur de Monte Carlo et l'importance de l'intervalle de confiance (IC) dans lequel se trouve la valeur recherchée avec probabilité grande (0.95). \n",
    "\n",
    "Enfin on applique la méthode de Monte Carlo à un exemple multidimensionnel où on illustre l'efficacité de 2 méthodes de réduction de variance: \n",
    "\n",
    "- variables antithétiques, \n",
    "- variable de contrôle. "
   ]
  },
  {
   "cell_type": "code",
   "execution_count": null,
   "id": "2e046f21-4713-4bfc-b2d0-32073d10d250",
   "metadata": {},
   "outputs": [],
   "source": [
    "import numpy as np\n",
    "from scipy import stats\n",
    "import matplotlib.pyplot as plt\n",
    "import seaborn as sns\n",
    "sns.set_theme() \n",
    "from numpy.random import default_rng\n",
    "rng = default_rng()"
   ]
  },
  {
   "cell_type": "markdown",
   "id": "dc0d798f-524f-46de-aa81-2e7107a546d5",
   "metadata": {},
   "source": [
    "## Illustration de la loi des grands nombres\n",
    "\n",
    "Soit $(X_n)_{n \\ge 1}$ une suite de variables aléatoires _i.i.d._ de carré intégrable. On définit les suites $(m_n)_{n \\ge 1}$ et $(\\sigma_n^2)_{n \\ge 2}$ (non définie pour $n = 1$) de la façon suivante\n",
    "\n",
    "$$\n",
    "  m_n = \\frac{1}{n} \\sum_{k=1}^n X_k \\qquad \\text{et} \\qquad \n",
    "  \\sigma_n^2 = \\frac{1}{n-1} \\sum_{k=1}^n (X_k - m_n)^2 \\quad \\text{pour} \\; n \\ge 2\n",
    "$$\n",
    "et on veut illustrer la Loi Forte des Grands Nombres et le Théorème Central Limite (étendu en utilisant le lemme de Slutsky pour remplacer $\\sigma^2 = \\mathrm{var}(X_1)$ par l'estimateur $\\sigma_n^2$) c'est à dire les convergences\n",
    "\n",
    "$$\n",
    "  m_n \\xrightarrow{p.s.} m \\qquad \\text{et} \\qquad \n",
    "  \\sqrt{n} \\Bigl(\\frac{m_n - m}{\\sigma_n}\\Bigr) \\xrightarrow{\\mathcal{L}} \\mathcal{N}(0, 1).\n",
    "$$\n",
    "\n",
    "Plus précisément on construit l'intervalle de confiance (asymptotique) à 95% à partir du TCL c'est à dire\n",
    "\n",
    "$$\n",
    "  \\text{pour $n$ grand} \\quad \\mathbf{P} \\biggl( m \\in \n",
    "  \\biggl[\n",
    "    m_n - \\frac{1.96 \\sigma_n}{\\sqrt{n}}, \n",
    "    m_n + \\frac{1.96 \\sigma_n}{\\sqrt{n}}\n",
    "  \\biggr] \\biggr) \\simeq 0.95\n",
    "$$"
   ]
  },
  {
   "cell_type": "markdown",
   "id": "853c2b0a-e6d8-40f1-a3af-f1732ef4ea2d",
   "metadata": {
    "tags": [
     "question"
    ]
   },
   "source": [
    "### Question: LFGN loi uniforme\n",
    "\n",
    "Reproduire le tracé suivant où les points (les croix 'x') sont les réalisations $X_n$ (en fonction de $n$) de loi uniforme sur $[-4,8]$. La ligne bleue (couleur 'C0', première couleur de la palette utilisée) correspond à la moyenne $m$, la courbe orangée (couleur 'C1') correspond à la suite $m_n$ et les lignes grises correspondent aux bornes de l'intervalle de confiance. La zone de confiance en jaune s'obtient par la méthode `fill_between` de `ax`.\n",
    "\n",
    "![](img/tcl_unif.png)"
   ]
  },
  {
   "cell_type": "code",
   "execution_count": null,
   "id": "51db966d-5681-4222-8217-5f9e83d8a681",
   "metadata": {
    "tags": [
     "aremplir"
    ]
   },
   "outputs": [],
   "source": []
  },
  {
   "cell_type": "markdown",
   "id": "6c165f34-971d-43d3-92c9-5bc41ef1a5e6",
   "metadata": {
    "tags": [
     "question"
    ]
   },
   "source": [
    "### Question: LFGN loi de Cauchy\n",
    "\n",
    "Reprendre rapidement l'exemple précédent en remplaçant la loi uniforme par la loi de Cauchy. On obtient des réalisations de la loi de Cauchy en utilisant la méthode `standard_cauchy` de l'objet `rng`. Répliquer plusieurs fois le tracé (avec l'axe des ordonnées restreint à $[-10,10]$) pour différentes valeurs de $n=100\\,000$. Qu'en pensez-vous? "
   ]
  },
  {
   "cell_type": "code",
   "execution_count": null,
   "id": "7289a19c-477a-4291-acda-ac8345bb7d42",
   "metadata": {
    "tags": [
     "aremplir"
    ]
   },
   "outputs": [],
   "source": []
  },
  {
   "cell_type": "markdown",
   "id": "68ecfdc4-7625-41e1-8bcb-9a2e178ba238",
   "metadata": {},
   "source": [
    "## Illustration du TCL \n",
    "\n",
    "On veut illustrer la répartition de l'erreur renormalisée $\\displaystyle \\varepsilon_n = \\sqrt{n} \\Bigl(\\frac{m_n - m}{\\sigma_n}\\Bigr)$ pour différentes valeurs de $n$. Lorsque $n$ est grand cette erreur renormalisée est proche de la loi normale cenrée réduite, c'est ce qu'on veut vérifier numériquement. \n",
    "Pour illustrer cette répartition, il est nécessaire de répliquer un grand nombre de fois l'erreur c'est à dire de considérer un échantillon $(\\varepsilon_n^{(j)})_{j=1,\\dots,M}$ de taille $M$ et de constuire l'histogramme de cet échantillon.\n",
    "\n",
    "**Attention:** en pratique il n'est pas nécessaire de répliquer $M$ fois l'estimateur $m_n$ pour approcher $m$. L'estimateur de la variance $v_n$ suffit pour donner la zone de confiance autour de $m_n$. C'est une information importante donnée par le TCL."
   ]
  },
  {
   "cell_type": "markdown",
   "id": "31f6167f-b1a7-48a5-a766-21e39afbd9a0",
   "metadata": {
    "tags": [
     "question"
    ]
   },
   "source": [
    "### Question: TCL loi uniforme \n",
    "\n",
    "Dans le cas de la loi uniforme sur $[-4, 8]$ vérifier la répartition de l'erreur renormalisée $\\varepsilon_n$ pour $n = 10$ puis $n = 1\\,000$ à partir d'un échantillon de taille $M = 100\\,000$."
   ]
  },
  {
   "cell_type": "code",
   "execution_count": null,
   "id": "092b36ef-6d3a-43ed-a1f0-e1cb3d4ddcd6",
   "metadata": {
    "tags": [
     "aremplir"
    ]
   },
   "outputs": [],
   "source": []
  },
  {
   "cell_type": "code",
   "execution_count": null,
   "id": "0a5b46ab-d911-4bd4-a94d-cea1cf217889",
   "metadata": {},
   "outputs": [],
   "source": []
  },
  {
   "cell_type": "markdown",
   "id": "aa218f54-374f-4d2e-8773-8eff7162ab37",
   "metadata": {},
   "source": [
    "## Un premier exemple d'estimateur de Monte Carlo\n",
    "\n",
    "On va mettre en oeuvre un estimateur de Monte Carlo pour calculer\n",
    "\n",
    "$$\n",
    "  I(\\beta) = \\mathbf{E}[\\exp(\\beta G)] \\quad \n",
    "  \\text{où $G \\sim \\mathcal{N}(0,1)$ et $\\beta \\in \\mathbf{R}$}. \n",
    "$$\n",
    "\n",
    "La valeur exacte $I(\\beta) = \\exp(\\beta^2/2)$ est connue mais cet exemple permet d'illustrer l'importance des bornes de l'intervalle de confiance (et donc de l'estimation de la variance) dans une méthode de Monte Carlo. La seule valeur moyenne $I_n = \\frac{1}{n} \\sum_{k=1}^n X_k$ n'est pas suffisante pour déterminer $I$."
   ]
  },
  {
   "cell_type": "markdown",
   "id": "227b7a6d-1c9c-41c8-a15d-235c3a309ee7",
   "metadata": {
    "tags": [
     "question"
    ]
   },
   "source": [
    "### Question: fonction `monte_carlo`\n",
    "\n",
    "Ecrire une fonction `monte_carlo(sample, proba=0.95)` qui à partir d'un échantillon `sample` de réalisation indépendantes $(X_k)_{k=1,\\dots,n}$ renvoie un tuple qui contient: \n",
    "\n",
    "- la moyenne de l'estimateur Monte Carlo de $I = \\mathbf{E}[X]$,\n",
    "- l'estimateur de la variance asymptotique apparaissant dans le TCL,\n",
    "- les bornes inférieures et supérieures de l'intervale de confiance de niveau de probabilité `proba`."
   ]
  },
  {
   "cell_type": "code",
   "execution_count": null,
   "id": "2f51f3ad-eb43-44a5-80ef-5bb5592115a3",
   "metadata": {
    "tags": [
     "aremplir"
    ]
   },
   "outputs": [],
   "source": []
  },
  {
   "cell_type": "markdown",
   "id": "3f1c949d-63c4-48f2-9523-29445c96a71e",
   "metadata": {
    "tags": [
     "question"
    ]
   },
   "source": [
    "### Question: premier exemple\n",
    "\n",
    "En utilisant la fonction `monte_carlo`, reproduire le tableau suivant où chaque ligne représente un résultat pour une valeur de $\\beta \\in \\{0.2, 0.5, 1, 2, 3, 5\\}$: \n",
    "\n",
    "- la première colonne est la valeur moyenne $I_n$,\n",
    "- la deuxième colonne l'estimateur de la variance,\n",
    "- les colonnes 3 et 4 sont les bornes inférieures et supérieurs de l'IC à 95%,\n",
    "- la colonne 5 contient la valeur exacte $\\mathbf{E}[\\exp(\\beta G)] = \\exp(\\beta^2/2)$.\n",
    "\n",
    "Ce tableau est obtenu pour $n = 1\\,000\\,000$. Comment interpréter ce tableau? "
   ]
  },
  {
   "cell_type": "code",
   "execution_count": 1,
   "id": "69aa7e19-9d81-4ce9-9ccf-a93221f56bed",
   "metadata": {
    "tags": [
     "question"
    ]
   },
   "outputs": [
    {
     "data": {
      "text/html": [
       "<div>\n",
       "<style scoped>\n",
       "    .dataframe tbody tr th:only-of-type {\n",
       "        vertical-align: middle;\n",
       "    }\n",
       "\n",
       "    .dataframe tbody tr th {\n",
       "        vertical-align: top;\n",
       "    }\n",
       "\n",
       "    .dataframe thead th {\n",
       "        text-align: right;\n",
       "    }\n",
       "</style>\n",
       "<table border=\"1\" class=\"dataframe\">\n",
       "  <thead>\n",
       "    <tr style=\"text-align: right;\">\n",
       "      <th></th>\n",
       "      <th>mean</th>\n",
       "      <th>var</th>\n",
       "      <th>low</th>\n",
       "      <th>high</th>\n",
       "      <th>exact</th>\n",
       "    </tr>\n",
       "  </thead>\n",
       "  <tbody>\n",
       "    <tr>\n",
       "      <th>0.2</th>\n",
       "      <td>1.020551</td>\n",
       "      <td>4.245536e-02</td>\n",
       "      <td>1.020147</td>\n",
       "      <td>1.020955</td>\n",
       "      <td>1.020201</td>\n",
       "    </tr>\n",
       "    <tr>\n",
       "      <th>0.5</th>\n",
       "      <td>1.134027</td>\n",
       "      <td>3.650418e-01</td>\n",
       "      <td>1.132843</td>\n",
       "      <td>1.135212</td>\n",
       "      <td>1.133148</td>\n",
       "    </tr>\n",
       "    <tr>\n",
       "      <th>1.0</th>\n",
       "      <td>1.651060</td>\n",
       "      <td>4.676691e+00</td>\n",
       "      <td>1.646821</td>\n",
       "      <td>1.655298</td>\n",
       "      <td>1.648721</td>\n",
       "    </tr>\n",
       "    <tr>\n",
       "      <th>2.0</th>\n",
       "      <td>7.402685</td>\n",
       "      <td>2.379946e+03</td>\n",
       "      <td>7.307068</td>\n",
       "      <td>7.498301</td>\n",
       "      <td>7.389056</td>\n",
       "    </tr>\n",
       "    <tr>\n",
       "      <th>3.0</th>\n",
       "      <td>87.915075</td>\n",
       "      <td>8.558333e+06</td>\n",
       "      <td>82.181273</td>\n",
       "      <td>93.648877</td>\n",
       "      <td>90.017131</td>\n",
       "    </tr>\n",
       "    <tr>\n",
       "      <th>5.0</th>\n",
       "      <td>121963.825619</td>\n",
       "      <td>6.439313e+14</td>\n",
       "      <td>72228.169429</td>\n",
       "      <td>171699.481809</td>\n",
       "      <td>268337.286521</td>\n",
       "    </tr>\n",
       "  </tbody>\n",
       "</table>\n",
       "</div>"
      ],
      "text/plain": [
       "              mean           var           low           high          exact\n",
       "0.2       1.020551  4.245536e-02      1.020147       1.020955       1.020201\n",
       "0.5       1.134027  3.650418e-01      1.132843       1.135212       1.133148\n",
       "1.0       1.651060  4.676691e+00      1.646821       1.655298       1.648721\n",
       "2.0       7.402685  2.379946e+03      7.307068       7.498301       7.389056\n",
       "3.0      87.915075  8.558333e+06     82.181273      93.648877      90.017131\n",
       "5.0  121963.825619  6.439313e+14  72228.169429  171699.481809  268337.286521"
      ]
     },
     "execution_count": 1,
     "metadata": {},
     "output_type": "execute_result"
    }
   ],
   "source": [
    "import pandas as pd\n",
    "df = pd.read_pickle(\"data/first_df.pkl\")\n",
    "df"
   ]
  },
  {
   "cell_type": "code",
   "execution_count": null,
   "id": "d0796346-e25d-4afb-9d58-fff5bf7cb7a1",
   "metadata": {
    "tags": [
     "aremplir"
    ]
   },
   "outputs": [],
   "source": []
  },
  {
   "cell_type": "code",
   "execution_count": null,
   "id": "da8bbc68-33fb-47fb-9816-de3b4f2d6cbc",
   "metadata": {},
   "outputs": [],
   "source": []
  },
  {
   "cell_type": "markdown",
   "id": "048d17c1-5a98-4d72-aaae-5c7370165e87",
   "metadata": {},
   "source": [
    "## Option panier: un exemple multidimensionnel\n",
    "\n",
    "On considère $d \\ge 2$ actifs financiers dont la loi à l'instant $T > 0$ est modélisée par une loi log-normale c'est à dire \n",
    "\\begin{equation*}\n",
    "    \\forall i \\in \\{1,\\dots,d\\}, \\quad\n",
    "    S^i_T = S^i_0 \\exp\\Bigl( \\bigl(r-\\frac{\\sigma_i^2}{2}\\bigr) T + \\sigma_i \\sqrt{T} \\tilde G_i \\Bigr)\n",
    "\\end{equation*}\n",
    "où le vecteur $(\\tilde G_1,\\dots, \\tilde G_d)$ est gaussien centré de matrice de covariance $\\Sigma$ et les constantes $r > 0$, $\\sigma_i > 0$ sont fixées. Il s'agit d'actifs financiers $(S^i_t)_{t \\in [0,T]}$, $1 \\le i \\le d$, modélisés par un processus de Black-Scholes multidimensionnel. On introduit la matrice $L$ triangulaire inférieure obtenue par la décomposition de Cholesky de la matrice $\\Sigma = L L^\\top$. \n",
    "\n",
    "A l'aide de cette matrice $L$, on définit la fonction $\\Phi:\\mathbf{R}^d \\to \\mathbf{R}^d$ telle que \n",
    "\\begin{equation*}\n",
    "    (S^1_T, \\dots, S^d_T) = \\Phi(G_1, \\dots, G_d) \\quad \\text{ou encore} \\quad S^i_T = \\Phi_i(G_1, \\dots, G_d)\n",
    "\\end{equation*}\n",
    "où $(G_1, \\dots, G_d) \\sim \\mathcal{N}(0, I_d)$ (l'égalité précédente est à considérer en loi).\n",
    "\n",
    "On s'intéresse au prix d'une option européenne (aussi appelé produit dérivé européen) sur le panier de ces $d$ actifs financiers, c'est à dire qu'on veut calculer \n",
    "\\begin{equation*}\n",
    "    \\mathbf{E} \\bigl[ X \\bigr] %\\quad \\text{avec} \\quad g(x) = (x-K)_+ \\quad \\text{ou} \\quad g(x) = (K-x)_+ \n",
    "    \\quad \\text{avec} \\quad \n",
    "    X = \\biggl(\\frac{1}{d} \\sum_{i=1}^d S^i_T  - K\\biggr)_+.\n",
    "\\end{equation*}"
   ]
  },
  {
   "cell_type": "markdown",
   "id": "cce85a35-c93f-4b1e-9369-12ee4a6272f1",
   "metadata": {
    "tags": [
     "question"
    ]
   },
   "source": [
    "### Question: initialisation \n",
    "\n",
    "Définir les paramètres globaux $d = 10$, $T = 1$, $r = 0.01$, $S^i_0 =100$ (pour tous les actifs), $\\sigma_i = i / (2d)$ (on dit que certains actifs sont plus volatiles que d'autres) et la matrice de corrélation $\\Sigma$ définie par $\\Sigma_{i,i} = 1$ et $\\Sigma_{i,j} = \\rho \\in [0,1]$ pour $i \\neq j$, avec $\\rho = 0.2$.\n",
    "\n",
    "Initialiser la matrice $L$ en utilisant la fonction `np.linalg.cholesky`."
   ]
  },
  {
   "cell_type": "code",
   "execution_count": null,
   "id": "8e3bd2ae-8e53-468b-9adf-b816bf4d5f0b",
   "metadata": {
    "tags": [
     "aremplir"
    ]
   },
   "outputs": [],
   "source": []
  },
  {
   "cell_type": "markdown",
   "id": "8427fa3d-b0d1-402e-a8dc-b1e32ae620ec",
   "metadata": {
    "tags": [
     "question"
    ]
   },
   "source": [
    "### Question: simulation d'un échantillon d'actifs\n",
    "\n",
    "Définir la fonction python `phi` qui transforme le vecteur $(G_1, \\dots, G_d)$ en un vecteur $(S_T^1,\\dots, S_T^d)$ (tous les paramètres sont des variables globales pour simplifier l'écriture du code). L'appel suivant doit fonctionner \n",
    "```\n",
    "G = rng.standard_normal(size=d)\n",
    "phi(G)\n",
    "```\n",
    "Si on veut implémenter un estimateur Monte Carlo il faut travailler avec des échantillons _i.i.d._ $(S^{(j)}_T)_{j=1,\\dots,n}$ où $S^{(j)}_T = \\big(S_T^{(j),1}, \\dots, S_T^{(j),d}\\big) \\in \\mathbf{R}^d$. Modifier votre fonction `phi` pour création un tel échantillon à partir de l'appel suivant: \n",
    "```\n",
    "sample_G = rng.standard_normal(size=(d, n))\n",
    "phi(sample_G)\n",
    "```\n",
    "(il faut utiliser la technique du broadcasting en `numpy`, c'est très important à connaitre en pratique)."
   ]
  },
  {
   "cell_type": "code",
   "execution_count": null,
   "id": "356d0d99-d09d-485f-b526-ddcdb2bff272",
   "metadata": {
    "tags": [
     "aremplir"
    ]
   },
   "outputs": [],
   "source": []
  },
  {
   "cell_type": "markdown",
   "id": "5d8ff622-af28-4b12-aba9-92a1b3b422fa",
   "metadata": {
    "tags": [
     "question"
    ]
   },
   "source": [
    "### Question: estimateur Monte Carlo \n",
    "\n",
    "Définir une fonction $\\psi: \\mathbf{R}^d \\times \\mathbf{R}_+ \\to \\mathbf{R}_+$ telle que\n",
    "\\begin{equation*}\n",
    "  \\psi(G_1, \\dots, G_d, K) = \n",
    "  \\biggl(\\frac{1}{d} \\sum_{i=1}^d \\Phi_i(G_1, \\dots, G_d) - K\\biggr)_+\n",
    "\\end{equation*}\n",
    "dans une fonction `python` appelée `psi`. Cette fonction doit fonctionner avec un échantillon $(G^{(j)}_1, \\dots, G^{(j)}_d)_{j=1,\\dots,n}$.  \n",
    "Ecrire et programmer l'estimateur de Monte Carlo pour estimer la quantité $\\mathbf{E}[X] = \\mathbf{E}[\\psi(G_1, \\dots, G_d, K)]$ où $(G_1, \\dots, G_d) \\sim \\mathcal{N}(0, I_d)$.  \n",
    "\n",
    "Pour différentes valeur de $K \\in \\{80,90,100,110,120\\}$ et $n = 100\\,000$ vous devez obtenir le tableau suivant: "
   ]
  },
  {
   "cell_type": "code",
   "execution_count": 2,
   "id": "fbf3346e-91e5-4cbe-9c48-599ed101d177",
   "metadata": {
    "tags": [
     "question"
    ]
   },
   "outputs": [
    {
     "data": {
      "text/html": [
       "<div>\n",
       "<style scoped>\n",
       "    .dataframe tbody tr th:only-of-type {\n",
       "        vertical-align: middle;\n",
       "    }\n",
       "\n",
       "    .dataframe tbody tr th {\n",
       "        vertical-align: top;\n",
       "    }\n",
       "\n",
       "    .dataframe thead th {\n",
       "        text-align: right;\n",
       "    }\n",
       "</style>\n",
       "<table border=\"1\" class=\"dataframe\">\n",
       "  <thead>\n",
       "    <tr style=\"text-align: right;\">\n",
       "      <th></th>\n",
       "      <th>mean</th>\n",
       "      <th>var</th>\n",
       "      <th>lower</th>\n",
       "      <th>upper</th>\n",
       "    </tr>\n",
       "  </thead>\n",
       "  <tbody>\n",
       "    <tr>\n",
       "      <th>80</th>\n",
       "      <td>21.394471</td>\n",
       "      <td>228.318772</td>\n",
       "      <td>21.300818</td>\n",
       "      <td>21.488123</td>\n",
       "    </tr>\n",
       "    <tr>\n",
       "      <th>90</th>\n",
       "      <td>12.860460</td>\n",
       "      <td>181.187947</td>\n",
       "      <td>12.777032</td>\n",
       "      <td>12.943889</td>\n",
       "    </tr>\n",
       "    <tr>\n",
       "      <th>100</th>\n",
       "      <td>6.655165</td>\n",
       "      <td>111.553749</td>\n",
       "      <td>6.589702</td>\n",
       "      <td>6.720627</td>\n",
       "    </tr>\n",
       "    <tr>\n",
       "      <th>110</th>\n",
       "      <td>2.998650</td>\n",
       "      <td>54.132985</td>\n",
       "      <td>2.953049</td>\n",
       "      <td>3.044252</td>\n",
       "    </tr>\n",
       "    <tr>\n",
       "      <th>120</th>\n",
       "      <td>1.204158</td>\n",
       "      <td>21.976278</td>\n",
       "      <td>1.175102</td>\n",
       "      <td>1.233213</td>\n",
       "    </tr>\n",
       "  </tbody>\n",
       "</table>\n",
       "</div>"
      ],
      "text/plain": [
       "          mean         var      lower      upper\n",
       "80   21.394471  228.318772  21.300818  21.488123\n",
       "90   12.860460  181.187947  12.777032  12.943889\n",
       "100   6.655165  111.553749   6.589702   6.720627\n",
       "110   2.998650   54.132985   2.953049   3.044252\n",
       "120   1.204158   21.976278   1.175102   1.233213"
      ]
     },
     "execution_count": 2,
     "metadata": {},
     "output_type": "execute_result"
    }
   ],
   "source": [
    "df = pd.read_pickle(\"data/basket_mc.pkl\")\n",
    "df"
   ]
  },
  {
   "cell_type": "code",
   "execution_count": null,
   "id": "c5919e9a-e6e2-47f0-b8cd-71f38413b8e7",
   "metadata": {
    "tags": [
     "aremplir"
    ]
   },
   "outputs": [],
   "source": []
  },
  {
   "cell_type": "markdown",
   "id": "9416f9fa-c4e0-4597-8d9e-1dd3a872653f",
   "metadata": {
    "tags": [
     "question"
    ]
   },
   "source": [
    "### Question: variables antithétiques \n",
    "\n",
    "Sur le même modèle que précédemment, implémenter la méthode de Monte Carlo avec réduction de variance par variables antithétiques c'est à dire basée sur la représentation: \n",
    "\\begin{equation*}\n",
    "    \\mathbf{E}[X] = \\mathbf{E} \\Big[ \\frac{1}{2} \\bigl( \\psi(G_1, \\dots, G_d, K) + \\psi(-G_1, \\dots, -G_d, K) \\bigr) \\Big]\n",
    "\\end{equation*}\n",
    "Calculer le ratio de variance (variance de la méthode naïve divisée par variance par variables antithétiques) pour les différentes valeurs de $K$.  \n",
    "Que signifie ce ratio de variance?  \n"
   ]
  },
  {
   "cell_type": "code",
   "execution_count": null,
   "id": "02560fe6-d34d-4054-ac36-170b6c68cbfd",
   "metadata": {
    "tags": [
     "aremplir"
    ]
   },
   "outputs": [],
   "source": []
  },
  {
   "cell_type": "markdown",
   "id": "806f8959-f831-43da-ae57-cbb36e2ee66a",
   "metadata": {},
   "source": [
    "## Option panier: une variable de contrôle \n",
    "\n",
    "Dans le cas de la dimension 1 ($d=1$), le prix est donnée par une formule fermée, on appelle cette formule la formule de Black-Scholes. Pour une option Basket (en dimension $d \\ge 2$) on approche le prix par Monte Carlo mais on peut utiliser des approximations pour construire un problème unidimensionnel proche du produit Basket. Ces approximations servent de variables de contrôles: **on ne rajoute pas une erreur, on retire de la variance**.\n",
    "\n",
    "On rappelle que, en posant $\\mu_i = r - \\frac{1}{2}\\sigma_i^2$,\n",
    "\\begin{equation*}\n",
    "    X = \\biggl(\\frac{1}{d} \\sum_{i=1}^d S^i_0 e^{\\mu_i T + \\sigma_i \\sqrt{T}  G_i}  - K\\biggr)_+\n",
    "\\end{equation*}\n",
    "et en introduisant $a^i_0 = \\frac{S^i_0}{\\sum_{j=1}^d S^j_0}$ (t.q. $\\sum a^i_0 = 1$) et $\\bar S_0 = \\frac{1}{d} \\sum_{i=1}^d S^i_0$ on a \n",
    "\\begin{equation*}\n",
    "    X = \\biggl(\\bar S_0 \\sum_{i=1}^d a^i_0 e^{\\mu_i T + \\sigma_i \\sqrt{T}  G_i}  - K\\biggr)_+.\n",
    "\\end{equation*}\n",
    "La variable de contrôle proposée est obtenue en échangeant l'exponentielle et la moyenne pondérée par les poids $\\big(a^i_0\\big)_{i=1,\\dots,d}$:\n",
    "\\begin{equation*}\n",
    "    Y = \\bigl(\\bar S_0 e^Z  - K\\bigr)_+\n",
    "    \\quad \\text{avec} \\quad \n",
    "    Z = \\sum_{i=1}^d a^i_0 \\big(\\mu_i T + \\sigma_i \\sqrt{T}  G_i\\big) \n",
    "\\end{equation*}\n",
    "La variable aléatoire $Z$ suit une loi gaussienne $Z \\sim \\mathcal{N}(m T, s^2 T)$ avec\n",
    "\\begin{equation*}\n",
    "    m = \\sum_{i=1}^d a^i_0 \\mu_i\n",
    "    \\quad \\text{et} \\quad\n",
    "    s^2 = \\sum_{i=1}^d \\Big( \\sum_{j=1}^d a^i_0 \\sigma_i L_{ij} \\Big)^2. \n",
    "\\end{equation*}\n",
    "Ainsi l'espérance de la variable de contrôle $Y$ est connue par la formule de Black-Scholes, car elle correspond au prix d'un call de strike $K$ d'un actif Black-Scholes de dimension 1, de valeur initiale $\\bar S_0$, de taux $\\rho = m+\\frac{1}{2} s^2$ et de volatilité $s$ (à un facteur d'actualisation près... attention à ça). On a donc \n",
    "\\begin{equation*}\n",
    "    e^{-\\rho T} \\mathbf{E} \\big[ Y \\big] = P_{\\text{BS}}\\big(\\bar S_0, \\rho, s, T, K\\big),\n",
    "\\end{equation*}\n",
    "où \n",
    "\\begin{equation*}\n",
    "    P_{\\text{BS}}\\big(x, r, \\sigma, T, K\\big) = x F_{\\mathcal{N}(0,1)}(d_1) - K e^{-r T} F_{\\mathcal{N}(0,1)}(d_2),\n",
    "\\end{equation*}\n",
    "avec $F_{\\mathcal{N}(0,1)}$ est la fonction de répartition de la loi normale centrée réduite et  la notation \n",
    "\\begin{equation*}\n",
    "    d_1 = \\frac{1}{\\sigma \\sqrt{T}} \\Big( \\log\\big( \\frac{x}{K} \\big) \n",
    "    + \\big(r + \\frac{\\sigma^2}{2}\\big) T \\Big)\n",
    "    \\quad \\text{et} \\quad\n",
    "    d_2 = d_1 - \\sigma \\sqrt{T}\n",
    "\\end{equation*}"
   ]
  },
  {
   "cell_type": "markdown",
   "id": "47e5e558-f825-406d-8175-7f6cb8c427e0",
   "metadata": {
    "tags": [
     "question"
    ]
   },
   "source": [
    "### Question: préliminaires pour la variable de contrôle\n",
    "\n",
    "- Définir la fonction `price_call_BS` qui code la fonction $P_{\\text{BS}}\\big(x, r, \\sigma, T, K\\big)$ définie ci-dessus.\n",
    "- Initialiser les paramètres $\\bar S_0$, $(a^i_0)_{i=1,\\dots,d}$, $m$, $s^2$ et $\\rho$.\n",
    "- Calculer $\\mathbf{E}[Y]$ par la formule fermée.\n",
    "- Calculer $\\mathbf{E}[Y]$ par un estimateur Monte Carlo à partir de réalisations de $( G_1^{(j)}, \\dots,  G_d^{(j)})$, $j \\in \\{1, \\dots, n\\}$.\n",
    "- Vérifier que tout est cohérent."
   ]
  },
  {
   "cell_type": "code",
   "execution_count": null,
   "id": "c91214d2-5864-4020-95dd-2bdee8445d3c",
   "metadata": {
    "tags": [
     "aremplir"
    ]
   },
   "outputs": [],
   "source": []
  },
  {
   "cell_type": "markdown",
   "id": "60e52cfa-01e9-451c-93e0-9a3a4d900485",
   "metadata": {
    "tags": [
     "question"
    ]
   },
   "source": [
    "### Question: MC avec variable de contrôle\n",
    "\n",
    "Implémenter l'estimateur de Monte Carlo avec variable de contrôle pour le calcul de $\\mathbf{E}[X]$ c'est à dire \n",
    "\\begin{equation*}\n",
    "    \\mathbf{E}\\big[ X \\big] = \\mathbf{E} \\big[\\psi(G_1,\\dots,G_d,K) - (Y - \\mathbf{E}[Y]) \\big],\n",
    "\\end{equation*}\n",
    "où $Y$ est la variable de contrôle introduite précédemment et $\\mathbf{E}[Y]$ est calculée par la formule fermée.  \n",
    "Comparer les ratios de variance pour les différentes valeurs de $K$."
   ]
  },
  {
   "cell_type": "code",
   "execution_count": null,
   "id": "f154c42e-2c8b-402a-b7fd-7dc9e8828fc8",
   "metadata": {
    "tags": [
     "aremplir"
    ]
   },
   "outputs": [],
   "source": []
  }
 ],
 "metadata": {
  "kernelspec": {
   "display_name": "Python 3 (ipykernel)",
   "language": "python",
   "name": "python3"
  },
  "language_info": {
   "codemirror_mode": {
    "name": "ipython",
    "version": 3
   },
   "file_extension": ".py",
   "mimetype": "text/x-python",
   "name": "python",
   "nbconvert_exporter": "python",
   "pygments_lexer": "ipython3",
   "version": "3.10.9"
  },
  "toc-autonumbering": true
 },
 "nbformat": 4,
 "nbformat_minor": 5
}
