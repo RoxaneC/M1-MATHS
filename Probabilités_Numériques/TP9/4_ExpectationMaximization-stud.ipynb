{
 "cells": [
  {
   "cell_type": "markdown",
   "metadata": {},
   "source": [
    "# <font color=darkcyan>  Expectation Maximization for latent data models </font>"
   ]
  },
  {
   "cell_type": "markdown",
   "metadata": {},
   "source": [
    "In the case where we are interested in estimating unknown parameters $\\theta\\in\\mathbb{R}^m$ characterizing a model with missing data, the Expectation Maximization (EM) algorithm (Dempster et al. 1977) can be used when the joint distribution of the missing data $X$ and the observed data $Y$ is explicit. For all $\\theta\\in\\mathbb{R}^m$, let $p_{\\theta}$ be the probability density function of $(X,Y)$ when the model is parameterized by $\\theta$ with respect to a given reference measure $\\mu$. The EM algorithm aims at computing iteratively an approximation of the maximum likelihood estimator which maximizes the observed data loglikelihood:\n",
    "\n",
    "$$\n",
    "\\ell(\\theta;Y) = \\log p_{\\theta}(Y) =\\log \\int p_{\\theta}(x,Y)\\mu(\\mathrm{d}x)\\,.\n",
    "$$\n",
    "\n",
    "As this quantity cannot be computed explicitly in general cases, the EM algorithm finds the maximum likelihood estimator by iteratively maximizing the expected complete data loglikelihood.\n",
    " \n",
    "Start with an inital value $\\theta^{(0)}$ and let $\\theta^{(t)}$ be the estimate at the $t$-th iteration for $t\\geqslant 0$, then the next iteration of EM is decomposed into two steps.\n",
    "\n",
    "1. E-step. Compute the expectation of the complete data loglikelihood, with respect to the conditional distribution of the missing data given the observed data parameterized by $\\theta^{(t)}$:\n",
    "\n",
    "$$\n",
    "Q(\\theta,\\theta^{(t)}) =\\mathbb{E}_{\\theta^{(t)}}\\left[\\log p_{\\theta}(X,Y)|Y \\right]\\,.\n",
    "$$\n",
    "\n",
    "2. M step. Determine $\\theta^{(t+1)}$ by maximizing the function Q:\n",
    "\n",
    "$$\n",
    "\\theta^{(t+1)}\\in argmax_\\theta Q(\\theta,\\theta^{(t)})\\,.\n",
    "$$\n"
   ]
  },
  {
   "cell_type": "markdown",
   "metadata": {},
   "source": [
    "#### Question 1 \n",
    "Prove the following crucial property motivates the EM algorithm.  \n",
    "For all $\\theta,\\theta^{(t)}$,\n",
    "    \n",
    "$$\n",
    "\\ell(Y;\\theta) - \\ell(Y;\\theta^{(t)}) \\geqslant Q(\\theta,\\theta^{(t)})-Q(\\theta^{(t)},\\theta^{(t)})\\,.\n",
    "$$"
   ]
  },
  {
   "cell_type": "markdown",
   "metadata": {},
   "source": [
    "On montre facilement que :\n",
    "\n",
    "$$\n",
    "Q(\\theta,\\theta^{(t)})  = \\ell(Y;\\theta) + \\mathbb{E}_{\\theta^{(t)}}[\\log p_{\\theta}(X|Y)]\\,.\n",
    "$$\n",
    "\n",
    "On note donc,\n",
    "\n",
    "$$\n",
    "\\ell(Y;\\theta) - \\ell(Y;\\theta^{(t)}) = Q(\\theta,\\theta^{(t)})-Q(\\theta^{(t)},\\theta^{(t)}) - H(\\theta,\\theta^{(t)}) + H(\\theta^{(t)},\\theta^{(t)})\\,,\n",
    "$$\n",
    "\n",
    "avec\n",
    "\n",
    "$$\n",
    "H(\\theta,\\theta^{(t)}) = \\mathbb{E}_{\\theta^{(t)}}[\\log p_{\\theta}(X|Y)]\\,.\n",
    "$$\n",
    "\n",
    "On retrouve la formule en constatant que\n",
    "\n",
    "$$\n",
    "H(\\theta,\\theta^{(t)}) - H(\\theta^{(t)},\\theta^{(t)})\\leqslant 0\\,,\n",
    "$$"
   ]
  },
  {
   "cell_type": "markdown",
   "metadata": {},
   "source": [
    "In the following, $X = (X_1,\\ldots,X_n)$ and $Y = (Y_1,\\ldots,Y_n)$ where $\\{(X_i,Y_i)\\}_{1\\leqslant i\\leqslant n}$  are i.i.d. in $\\{-1,1\\} \\times \\mathbb{R}^d$. For $k\\in\\{-1,1\\}$, write $\\pi_k = \\mathbb{P}(X_1 = k)$. Assume that, conditionally on the event $\\{X_1 = k\\}$, $Y_1$ has a Gaussian distribution with mean $\\mu_k \\in\\mathbb{R}^d$ and covariance matrix $\\Sigma\\in \\mathbb{R}^{d\\times d}$. In this case, the parameter $\\theta=(\\pi_1, \\mu_1,\\mu_{-1}, \\Sigma)$ belongs to the set $\\Theta= [0,1] \\times \\mathbb{R}^d \\times \\mathbb{R}^d \\times \\mathbb{R}^{d \\times d}$."
   ]
  },
  {
   "cell_type": "markdown",
   "metadata": {},
   "source": [
    "#### Question 2\n",
    "- Write the complete data loglikelihood\n",
    "- Let $\\theta^{(t)}$ be the current parameter estimate. Compute $\\theta\\mapsto Q(\\theta,\\theta^{(t)})$.\n",
    "- Compute $\\theta^{(t+1)} = \\mathrm{argmax}_\\theta Q(\\theta,\\theta^{(t)})$. "
   ]
  },
  {
   "cell_type": "markdown",
   "metadata": {},
   "source": []
  },
  {
   "cell_type": "markdown",
   "metadata": {},
   "source": []
  },
  {
   "cell_type": "markdown",
   "metadata": {},
   "source": []
  },
  {
   "cell_type": "code",
   "execution_count": 1,
   "metadata": {},
   "outputs": [],
   "source": [
    "import matplotlib.pyplot as plt\n",
    "import numpy as np\n",
    "from scipy.stats import multivariate_normal"
   ]
  },
  {
   "cell_type": "markdown",
   "metadata": {},
   "source": [
    "#### <font color=darkorange>  Simulated data</font>"
   ]
  },
  {
   "cell_type": "markdown",
   "metadata": {},
   "source": [
    "#### Question 3\n",
    "- Sample data from a mixture of two Gaussian distributions and display the associated histogram"
   ]
  },
  {
   "cell_type": "code",
   "execution_count": 19,
   "metadata": {},
   "outputs": [],
   "source": [
    "# number of observations\n",
    "n_samples = 1000\n",
    "\n",
    "# means and variance to be estimated\n",
    "mu1, sigma1 = -2, 1.5\n",
    "mu2, sigma2 = 3, 1\n",
    "mu = np.array([mu1, mu2])\n",
    "sigma = np.array([sigma1, sigma2])\n",
    "\n",
    "# prior probability of the first cluster/goup \n",
    "pi1 = 0.3\n",
    "\n",
    "# A compléter\n",
    "X = np.random.normal(0, 1, n_samples)\n",
    "loi = np.random.choice(2, size=n_samples, p=[pi1, 1-pi1])\n",
    "mix_gauss = mu[loi] + np.sqrt(sigma[loi])*X"
   ]
  },
  {
   "cell_type": "code",
   "execution_count": 15,
   "metadata": {},
   "outputs": [],
   "source": [
    "def Gaussian_pdf(x, mean, variance):\n",
    "  z = np.exp(-(x - mean)**2/(2*variance))/np.sqrt(2*np.pi*variance)\n",
    "  return z"
   ]
  },
  {
   "cell_type": "code",
   "execution_count": 20,
   "metadata": {},
   "outputs": [
    {
     "data": {
      "image/png": "[encoded data removed]",
      "text/plain": [
       "<Figure size 640x480 with 1 Axes>"
      ]
     },
     "metadata": {},
     "output_type": "display_data"
    }
   ],
   "source": [
    "# visualize the training data\n",
    "\n",
    "# A compléter\n",
    "fig, ax = plt.subplots()\n",
    "count, bins, ignored = plt.hist(mix_gauss, 100, density=True)\n",
    "\n",
    "# pour affichage plus joli des courbes\n",
    "plt.plot(bins, Gaussian_pdf(bins, mu1, sigma1), linestyle = 'dashed', alpha = 0.5, color='red', label=\"True 1st density\")\n",
    "plt.plot(bins, Gaussian_pdf(bins, mu2, sigma2), linestyle = 'dashed', alpha = 0.5, color='k', label=\"True 2nd density\")\n",
    "plt.plot(bins, pi1*Gaussian_pdf(bins, mu1, sigma1) + (1-pi1)*Gaussian_pdf(bins, mu2, sigma2), alpha = 0.5, color='b', label=\"True mixture density\")\n",
    "\n",
    "plt.tick_params(labelright=True)\n",
    "plt.title(f'Histogram Mixture of Gaussian (mu : {mu}, sigma : {sigma})')\n",
    "plt.grid(True)"
   ]
  },
  {
   "cell_type": "markdown",
   "metadata": {},
   "source": [
    "#### <font color=darkorange>  EM algorithm</font>"
   ]
  },
  {
   "cell_type": "code",
   "execution_count": 21,
   "metadata": {},
   "outputs": [],
   "source": [
    "# plot estimated density - plot the density of a mixture of two Gaussian distributions\n",
    "\n",
    "# A compléter\n",
    "def plot_pdf(mix_gauss, pi1, mu1, mu2, sigma1, sigma2, w, means, variances, it):\n",
    "    plt.figure(figsize=(10,8))\n",
    "    \n",
    "    # Affichage de l'estimation séparée des densitées\n",
    "    plt.subplot(1,2,1)\n",
    "    plt.xlabel(\"$x$\")\n",
    "    plt.ylabel(\"probability density\")\n",
    "    plt.title(\"Iteration {}\".format(it))\n",
    "\n",
    "    plt.plot(bins, Gaussian_pdf(bins, mu1, sigma1), alpha = 0.8, color='red', label=\"True 1st density\")\n",
    "    plt.plot(bins, Gaussian_pdf(bins, mu2, sigma2), alpha = 0.8, color='k', label=\"True 2nd density\")\n",
    "\n",
    "    plt.plot(bins, Gaussian_pdf(bins, means[0], variances[0]), linestyle = 'dashed', alpha = 0.5, color='red', label=\"Estimated 1st density\")\n",
    "    plt.plot(bins, Gaussian_pdf(bins, means[1], variances[1]), linestyle = 'dashed', alpha = 0.5, color='k', label=\"Estimated 2nd density\")\n",
    "    \n",
    "    plt.tick_params(labelright=True)\n",
    "    plt.grid('True')\n",
    "    plt.legend()\n",
    "    \n",
    "    # Affichage de l'estimation de la mixture\n",
    "    plt.subplot(1,2,2)\n",
    "    plt.xlabel(\"$x$\")\n",
    "    plt.ylabel(\"probability density\")\n",
    "    plt.title(\"Iteration {}\".format(it))\n",
    "    \n",
    "    plt.plot(bins, pi1*Gaussian_pdf(bins, mu1, sigma1) + (1-pi1)*Gaussian_pdf(bins, mu2, sigma2), alpha = 0.5, color='b', label=\"True mixture density\")\n",
    "    plt.plot(bins, w*Gaussian_pdf(bins, means[0], variances[0]) + (1-w)*Gaussian_pdf(bins, means[1], variances[1]), linestyle = 'dashed', alpha = 0.5, color='b', label=\"Estimated mixture density\")\n",
    "    plt.tick_params(labelright=True)\n",
    "    plt.grid('True')\n",
    "    plt.legend()\n",
    "    plt.tight_layout()\n",
    "    "
   ]
  },
  {
   "cell_type": "markdown",
   "metadata": {},
   "source": [
    "#### Question 5\n",
    " - Compute $\\omega_t^i = \\mathbb{P}_{\\theta^{(t)}}(X_i=1|Y_i)$.\n",
    " - Write the loop of the EM algorithm.\n",
    " - Run the algorithm and display the loglikelihood and the estimates along iterations.\n"
   ]
  },
  {
   "cell_type": "markdown",
   "metadata": {},
   "source": [
    "Write, for all $1\\leqslant i\\leqslant n$,\n",
    "\n",
    "$$\n",
    "\\omega_t^i = \\mathbb{P}_{\\theta^{(t)}}(X_i=1|Y_i) = \\frac{\\hat\\pi^{(t)}_1 g^{(t)}_1(Y_i)}{\\hat\\pi^{(t)}_1 g^{(t)}_1(Y_i) + (1-\\hat\\pi^{(t)}_1) g^{(t)}_{-1}(Y_i)}\\,,\n",
    "$$\n",
    "\n",
    "where, for $j\\in\\{-1,1\\}$, $g^{(t)}_j$ is the likelihood (density) of the observation $Y$ given the event $\\{X=j\\}$ when the model is parameterized by $\\theta^{(t)}$ (Gaussian distribution with mean $\\mu_{j}^{(t)}$ and variance $\\Sigma$):\n",
    "\n",
    "$$\n",
    "g^{(t)}_j: y \\mapsto  \\mathrm{det}(2\\pi\\Sigma^{(t)})^{-1/2}\\times\\mathrm{exp}\\left\\{-(y-\\mu_j^{(t)})^T(\\Sigma^{(t)})^{-1}(y-\\mu_j^{(t)})/2\\right\\}\\,.\n",
    "$$"
   ]
  },
  {
   "cell_type": "code",
   "execution_count": 23,
   "metadata": {},
   "outputs": [],
   "source": [
    "n_clust = 2\n",
    "weights = np.ones((n_clust)) / n_clust\n",
    "means = [0, 1]\n",
    "variances = [0.5, 2]"
   ]
  },
  {
   "cell_type": "code",
   "execution_count": 24,
   "metadata": {},
   "outputs": [],
   "source": [
    "# number of iterations of the EM algorithm\n",
    "n_it = 100"
   ]
  },
  {
   "cell_type": "code",
   "execution_count": 25,
   "metadata": {},
   "outputs": [],
   "source": [
    "pi1_est = np.zeros(n_it+1)\n",
    "mu1_est = np.zeros(n_it+1)\n",
    "mu2_est = np.zeros(n_it+1)\n",
    "sigma1_est = np.zeros(n_it+1)\n",
    "sigma2_est = np.zeros(n_it+1)\n",
    "\n",
    "pi1_est[0] = weights[0]\n",
    "mu1_est[0] = means[0]\n",
    "mu2_est[0] = means[1]\n",
    "sigma1_est[0] = variances[0]\n",
    "sigma2_est[0] = variances[1]"
   ]
  },
  {
   "cell_type": "code",
   "execution_count": null,
   "metadata": {},
   "outputs": [],
   "source": [
    "# A compléter"
   ]
  },
  {
   "cell_type": "code",
   "execution_count": null,
   "metadata": {},
   "outputs": [],
   "source": [
    "# plot loglikelihood along iterations"
   ]
  },
  {
   "cell_type": "code",
   "execution_count": null,
   "metadata": {},
   "outputs": [],
   "source": [
    "# plot parameters along iterations"
   ]
  },
  {
   "cell_type": "markdown",
   "metadata": {},
   "source": [
    "#### Question 6\n",
    "\n",
    "- Explore the sensitivity of the algorithm with respect to i) the initial estimates, ii) the number of iterations, iii) the number of observations and iv) the number of clusters. "
   ]
  },
  {
   "cell_type": "code",
   "execution_count": 1,
   "metadata": {},
   "outputs": [],
   "source": [
    "# A compléter"
   ]
  },
  {
   "cell_type": "code",
   "execution_count": null,
   "metadata": {},
   "outputs": [],
   "source": []
  }
 ],
 "metadata": {
  "kernelspec": {
   "display_name": "Python 3 (ipykernel)",
   "language": "python",
   "name": "python3"
  },
  "language_info": {
   "codemirror_mode": {
    "name": "ipython",
    "version": 3
   },
   "file_extension": ".py",
   "mimetype": "text/x-python",
   "name": "python",
   "nbconvert_exporter": "python",
   "pygments_lexer": "ipython3",
   "version": "3.10.12"
  }
 },
 "nbformat": 4,
 "nbformat_minor": 2
}
